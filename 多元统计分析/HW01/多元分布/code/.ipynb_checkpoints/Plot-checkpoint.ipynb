{
 "cells": [
  {
   "metadata": {},
   "cell_type": "markdown",
   "source": [
    "## 问题描述\n",
    "\n",
    "为了研究人体的心肺功能，对31个成年男子测量了肺活量(OXY)，并且记录了他们的年龄(age)、体重(weight)，以及简单训练后的测试数据：跑1.5英里的时间(time)、休息时的脉搏(spulse)、跑步时的脉搏(rpulse)和跑步时记录的最大脉搏(mpulse)，共7项指标。\n",
    "\n",
    "1. 分别绘制OXY与time和age的散布图，从图中可得出什么结论？\n",
    "2. 绘制7项指标的散布图简陋，从这里能不能直接看出一些结论；\n",
    "3. 绘制序号为1, 2, 21, 22的4个人的轮廓图和雷达图；\n",
    "4. 绘制序号为1, 2, 21, 22的4个人的调和曲线图（放在同一张图上）。\n"
   ],
   "id": "bfeee70824040d6f"
  },
  {
   "metadata": {
    "ExecuteTime": {
     "end_time": "2025-03-23T08:13:43.666140Z",
     "start_time": "2025-03-23T08:13:43.649938Z"
    }
   },
   "cell_type": "code",
   "source": [
    "import pandas as pd\n",
    "import seaborn as sns\n",
    "import numpy as np\n",
    "import matplotlib.pyplot as plt\n",
    "from matplotlib import rcParams\n",
    "\n",
    "# 支持中文字体\n",
    "rcParams['font.sans-serif'] = ['SimHei']\n",
    "rcParams['axes.unicode_minus'] = False\n",
    "\n",
    "# 读取文件\n",
    "file_path = 'Data/OXY.csv'\n",
    "data = pd.read_csv(file_path)\n",
    "data.head()"
   ],
   "id": "3cb73e9b9e106c82",
   "outputs": [
    {
     "data": {
      "text/plain": [
       "   序号  age  weight   time  spulse  rpulse  mpulse     OXY\n",
       "0   1   57   73.37  12.63      58     174     176  39.407\n",
       "1   2   54   79.38  11.17      62     156     165  46.080\n",
       "2   3   52   76.32   9.63      48     164     166  45.441\n",
       "3   4   50   70.87   8.92      48     146     155  54.625\n",
       "4   5   51   67.25  11.08      48     172     172  45.118"
      ],
      "text/html": [
       "<div>\n",
       "<style scoped>\n",
       "    .dataframe tbody tr th:only-of-type {\n",
       "        vertical-align: middle;\n",
       "    }\n",
       "\n",
       "    .dataframe tbody tr th {\n",
       "        vertical-align: top;\n",
       "    }\n",
       "\n",
       "    .dataframe thead th {\n",
       "        text-align: right;\n",
       "    }\n",
       "</style>\n",
       "<table border=\"1\" class=\"dataframe\">\n",
       "  <thead>\n",
       "    <tr style=\"text-align: right;\">\n",
       "      <th></th>\n",
       "      <th>序号</th>\n",
       "      <th>age</th>\n",
       "      <th>weight</th>\n",
       "      <th>time</th>\n",
       "      <th>spulse</th>\n",
       "      <th>rpulse</th>\n",
       "      <th>mpulse</th>\n",
       "      <th>OXY</th>\n",
       "    </tr>\n",
       "  </thead>\n",
       "  <tbody>\n",
       "    <tr>\n",
       "      <th>0</th>\n",
       "      <td>1</td>\n",
       "      <td>57</td>\n",
       "      <td>73.37</td>\n",
       "      <td>12.63</td>\n",
       "      <td>58</td>\n",
       "      <td>174</td>\n",
       "      <td>176</td>\n",
       "      <td>39.407</td>\n",
       "    </tr>\n",
       "    <tr>\n",
       "      <th>1</th>\n",
       "      <td>2</td>\n",
       "      <td>54</td>\n",
       "      <td>79.38</td>\n",
       "      <td>11.17</td>\n",
       "      <td>62</td>\n",
       "      <td>156</td>\n",
       "      <td>165</td>\n",
       "      <td>46.080</td>\n",
       "    </tr>\n",
       "    <tr>\n",
       "      <th>2</th>\n",
       "      <td>3</td>\n",
       "      <td>52</td>\n",
       "      <td>76.32</td>\n",
       "      <td>9.63</td>\n",
       "      <td>48</td>\n",
       "      <td>164</td>\n",
       "      <td>166</td>\n",
       "      <td>45.441</td>\n",
       "    </tr>\n",
       "    <tr>\n",
       "      <th>3</th>\n",
       "      <td>4</td>\n",
       "      <td>50</td>\n",
       "      <td>70.87</td>\n",
       "      <td>8.92</td>\n",
       "      <td>48</td>\n",
       "      <td>146</td>\n",
       "      <td>155</td>\n",
       "      <td>54.625</td>\n",
       "    </tr>\n",
       "    <tr>\n",
       "      <th>4</th>\n",
       "      <td>5</td>\n",
       "      <td>51</td>\n",
       "      <td>67.25</td>\n",
       "      <td>11.08</td>\n",
       "      <td>48</td>\n",
       "      <td>172</td>\n",
       "      <td>172</td>\n",
       "      <td>45.118</td>\n",
       "    </tr>\n",
       "  </tbody>\n",
       "</table>\n",
       "</div>"
      ]
     },
     "execution_count": 3,
     "metadata": {},
     "output_type": "execute_result"
    }
   ],
   "execution_count": 3
  },
  {
   "metadata": {},
   "cell_type": "markdown",
   "source": "#### 1.分别绘制OXY与time和age的散布图，从图中可得出什么结论？",
   "id": "3c09246959a98e6c"
  },
  {
   "metadata": {},
   "cell_type": "code",
   "outputs": [],
   "execution_count": null,
   "source": "",
   "id": "161ed7dfb3c28ecf"
  }
 ],
 "metadata": {
  "kernelspec": {
   "display_name": "Python 3",
   "language": "python",
   "name": "python3"
  },
  "language_info": {
   "codemirror_mode": {
    "name": "ipython",
    "version": 2
   },
   "file_extension": ".py",
   "mimetype": "text/x-python",
   "name": "python",
   "nbconvert_exporter": "python",
   "pygments_lexer": "ipython2",
   "version": "2.7.6"
  }
 },
 "nbformat": 4,
 "nbformat_minor": 5
}
